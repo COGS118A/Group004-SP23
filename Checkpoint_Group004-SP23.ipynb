{
 "cells": [
  {
   "cell_type": "markdown",
   "metadata": {},
   "source": [
    "# COGS 118A - Project Checkpoint"
   ]
  },
  {
   "cell_type": "markdown",
   "metadata": {},
   "source": [
    "# Names\n",
    "\n",
    "- Guanyu Zhu\n",
    "- Tze Howe Yap\n",
    "- David Chen\n",
    "- Cassidy Lu"
   ]
  },
  {
   "cell_type": "markdown",
   "metadata": {},
   "source": [
    "# Abstract \n",
    "\n",
    "Airbnb is a well known internet marketplace for short-term home and apartment rentals. Hosts often face difficulty in determining an optimal price for their listings. Both overpricing and underpricing can lead to revenue loss. To solve this problem, we use previews listed Airbnb in San Diego including their price and descriptions to encode those into machine learning models. \n",
    " We aim to develop a model that can successfully predict Airbnb prices in San Diego based on relevant property features. We measure the model’s accuracy using R^2 and calculate the loss using RMSE. "
   ]
  },
  {
   "cell_type": "markdown",
   "metadata": {},
   "source": [
    "# Background\n",
    "\n",
    "On May 5, 2023, the CDC announced the End of the Federal COVID-19 Public Health Emergency (PHE) Declaration, signaling an official end to this unprecedented pandemic. What's to come is the recovery of the global travel market. Across the entire world, there are currently over 4 million+ Airbnb hosts worldwide and 6 million+ active listings on the platform. In addition to the staggering number of hosts, there are more than 150 million users, and the overall number of bookings through Airbnb has surpassed 100 million.<a name=\"airbnbstats\"></a>[<sup>[1]</sup>](#airbnbstats) In the area of San Diego alone, there are a total of 12,871 listings, with 87.1% of them being short-term rentals. Additionally, 66.3% of hosts have multiple listings, indicating that most hosts have more than one property on the market.<a name=\"airbnbsd\"></a>[<sup>[2]</sup>](#airbnbsd) For those with a large number of listing properties, it becomes challenging to thoroughly investigate and change prices daily. Therefore, having a comparable prediction as a reference for their decision would be beneficial. The potential of the short-term rental market is enormous and growing exponentially. However, it's not just people with multiple listings who struggle with setting a fair price; new hosts also typically face difficulties when initially deciding on the price for their listings.\n",
    "\n",
    "When you try to list your home on airbnb, you’ll need to do market research on the similar homes near you, finding out the average price of the market, and then determine the price that you would like to set for your home. The problem is that you can’t list a price and never change it forever. You need to change the price frequently based on market price, which means each time you want to change the price you need to do the market research again, which is a lot of work. In this case, if you have a program that can predict the price base on the model that has previously been trained on similar data from already existing listings would be pretty helpful. \n"
   ]
  },
  {
   "cell_type": "markdown",
   "metadata": {},
   "source": [
    "# Problem Statement\n",
    "\n",
    "Setting a reasonable price for an airbnb host is hard to achieve. They need to predict other similar listings’ prices in order to maximize the profit. We aim to utilize machine learning algorithms to analyze past data and train a predictive model that can most accurately predict the most profitable airbnb price based on the property’s features and location. \n"
   ]
  },
  {
   "cell_type": "markdown",
   "metadata": {},
   "source": [
    "# Data\n",
    "\n",
    "UPDATED FROM PROPOSAL!\n",
    "\n",
    "You should have obtained and cleaned (if necessary) data you will use for this project.\n",
    "\n",
    "Please give the following infomration for each dataset you are using\n",
    "- link/reference to obtain it\n",
    "- description of the size of the dataset (# of variables, # of observations)\n",
    "- what an observation consists of\n",
    "- what some critical variables are, how they are represented\n",
    "- any special handling, transformations, cleaning, etc you have done should be demonstrated here!\n"
   ]
  },
  {
   "cell_type": "code",
   "execution_count": 1,
   "metadata": {},
   "outputs": [],
   "source": [
    "# imports \n",
    "import numpy as np\n",
    "import pandas as pd\n",
    "import matplotlib.pyplot as plt\n",
    "import seaborn as sns\n",
    "\n",
    "import warnings\n",
    "from pandas.core.common import SettingWithCopyWarning\n",
    "warnings.simplefilter(action=\"ignore\", category=SettingWithCopyWarning)"
   ]
  },
  {
   "cell_type": "code",
   "execution_count": 2,
   "metadata": {},
   "outputs": [],
   "source": [
    "# load in both dataframe\n",
    "raw_listing = pd.read_csv('data/listings.csv.gz')\n",
    "raw_calendar = pd.read_csv('data/calendar.csv.gz')"
   ]
  },
  {
   "cell_type": "markdown",
   "metadata": {},
   "source": [
    "## Data Cleaning"
   ]
  },
  {
   "cell_type": "markdown",
   "metadata": {},
   "source": [
    "### Listing "
   ]
  },
  {
   "cell_type": "code",
   "execution_count": 3,
   "metadata": {
    "scrolled": true
   },
   "outputs": [],
   "source": [
    "# Get useful column assign to new dataframe\n",
    "featured_listing = raw_listing[['id', 'host_location', 'neighbourhood_cleansed', 'latitude', 'longitude', \n",
    "                                'property_type', 'accommodates', 'bedrooms', 'beds',\n",
    "                                'room_type', 'amenities']]"
   ]
  },
  {
   "cell_type": "code",
   "execution_count": 4,
   "metadata": {
    "scrolled": true
   },
   "outputs": [
    {
     "data": {
      "text/html": [
       "<div>\n",
       "<style scoped>\n",
       "    .dataframe tbody tr th:only-of-type {\n",
       "        vertical-align: middle;\n",
       "    }\n",
       "\n",
       "    .dataframe tbody tr th {\n",
       "        vertical-align: top;\n",
       "    }\n",
       "\n",
       "    .dataframe thead th {\n",
       "        text-align: right;\n",
       "    }\n",
       "</style>\n",
       "<table border=\"1\" class=\"dataframe\">\n",
       "  <thead>\n",
       "    <tr style=\"text-align: right;\">\n",
       "      <th></th>\n",
       "      <th>id</th>\n",
       "      <th>host_location</th>\n",
       "      <th>neighbourhood_cleansed</th>\n",
       "      <th>latitude</th>\n",
       "      <th>longitude</th>\n",
       "      <th>property_type</th>\n",
       "      <th>accommodates</th>\n",
       "      <th>bedrooms</th>\n",
       "      <th>beds</th>\n",
       "      <th>room_type</th>\n",
       "      <th>amenities</th>\n",
       "    </tr>\n",
       "  </thead>\n",
       "  <tbody>\n",
       "    <tr>\n",
       "      <th>0</th>\n",
       "      <td>610920</td>\n",
       "      <td>San Diego, CA</td>\n",
       "      <td>La Jolla</td>\n",
       "      <td>32.81244</td>\n",
       "      <td>-117.26835</td>\n",
       "      <td>Entire home</td>\n",
       "      <td>4</td>\n",
       "      <td>3.0</td>\n",
       "      <td>3.0</td>\n",
       "      <td>Entire home/apt</td>\n",
       "      <td>[\"Refrigerator\", \"Iron\", \"Security cameras on ...</td>\n",
       "    </tr>\n",
       "    <tr>\n",
       "      <th>1</th>\n",
       "      <td>6</td>\n",
       "      <td>San Diego, CA</td>\n",
       "      <td>North Hills</td>\n",
       "      <td>32.75522</td>\n",
       "      <td>-117.12873</td>\n",
       "      <td>Entire home</td>\n",
       "      <td>6</td>\n",
       "      <td>3.0</td>\n",
       "      <td>3.0</td>\n",
       "      <td>Entire home/apt</td>\n",
       "      <td>[\"Iron\", \"Security cameras on property\", \"Boar...</td>\n",
       "    </tr>\n",
       "    <tr>\n",
       "      <th>2</th>\n",
       "      <td>29967</td>\n",
       "      <td>San Diego, CA</td>\n",
       "      <td>Pacific Beach</td>\n",
       "      <td>32.80751</td>\n",
       "      <td>-117.25760</td>\n",
       "      <td>Entire bungalow</td>\n",
       "      <td>6</td>\n",
       "      <td>2.0</td>\n",
       "      <td>3.0</td>\n",
       "      <td>Entire home/apt</td>\n",
       "      <td>[\"Washer\", \"Hair dryer\", \"Iron\", \"Smoke alarm\"...</td>\n",
       "    </tr>\n",
       "    <tr>\n",
       "      <th>3</th>\n",
       "      <td>1166766</td>\n",
       "      <td>San Diego, CA</td>\n",
       "      <td>Bay Park</td>\n",
       "      <td>32.78337</td>\n",
       "      <td>-117.19911</td>\n",
       "      <td>Entire home</td>\n",
       "      <td>14</td>\n",
       "      <td>5.0</td>\n",
       "      <td>6.0</td>\n",
       "      <td>Entire home/apt</td>\n",
       "      <td>[\"Washer\", \"Refrigerator\", \"Private hot tub\", ...</td>\n",
       "    </tr>\n",
       "    <tr>\n",
       "      <th>4</th>\n",
       "      <td>1167130</td>\n",
       "      <td>San Diego, CA</td>\n",
       "      <td>Old Town</td>\n",
       "      <td>32.74569</td>\n",
       "      <td>-117.18702</td>\n",
       "      <td>Entire home</td>\n",
       "      <td>12</td>\n",
       "      <td>5.0</td>\n",
       "      <td>7.0</td>\n",
       "      <td>Entire home/apt</td>\n",
       "      <td>[\"Washer\", \"Refrigerator\", \"Private hot tub\", ...</td>\n",
       "    </tr>\n",
       "  </tbody>\n",
       "</table>\n",
       "</div>"
      ],
      "text/plain": [
       "        id  host_location neighbourhood_cleansed  latitude  longitude  \\\n",
       "0   610920  San Diego, CA               La Jolla  32.81244 -117.26835   \n",
       "1        6  San Diego, CA            North Hills  32.75522 -117.12873   \n",
       "2    29967  San Diego, CA          Pacific Beach  32.80751 -117.25760   \n",
       "3  1166766  San Diego, CA               Bay Park  32.78337 -117.19911   \n",
       "4  1167130  San Diego, CA               Old Town  32.74569 -117.18702   \n",
       "\n",
       "     property_type  accommodates  bedrooms  beds        room_type  \\\n",
       "0      Entire home             4       3.0   3.0  Entire home/apt   \n",
       "1      Entire home             6       3.0   3.0  Entire home/apt   \n",
       "2  Entire bungalow             6       2.0   3.0  Entire home/apt   \n",
       "3      Entire home            14       5.0   6.0  Entire home/apt   \n",
       "4      Entire home            12       5.0   7.0  Entire home/apt   \n",
       "\n",
       "                                           amenities  \n",
       "0  [\"Refrigerator\", \"Iron\", \"Security cameras on ...  \n",
       "1  [\"Iron\", \"Security cameras on property\", \"Boar...  \n",
       "2  [\"Washer\", \"Hair dryer\", \"Iron\", \"Smoke alarm\"...  \n",
       "3  [\"Washer\", \"Refrigerator\", \"Private hot tub\", ...  \n",
       "4  [\"Washer\", \"Refrigerator\", \"Private hot tub\", ...  "
      ]
     },
     "execution_count": 4,
     "metadata": {},
     "output_type": "execute_result"
    }
   ],
   "source": [
    "featured_listing.head()"
   ]
  },
  {
   "cell_type": "code",
   "execution_count": 5,
   "metadata": {
    "scrolled": false
   },
   "outputs": [
    {
     "data": {
      "text/plain": [
       "id                        12871\n",
       "host_location             10335\n",
       "neighbourhood_cleansed    12871\n",
       "latitude                  12871\n",
       "longitude                 12871\n",
       "property_type             12871\n",
       "accommodates              12871\n",
       "bedrooms                  11774\n",
       "beds                      12707\n",
       "room_type                 12871\n",
       "amenities                 12871\n",
       "dtype: int64"
      ]
     },
     "execution_count": 5,
     "metadata": {},
     "output_type": "execute_result"
    }
   ],
   "source": [
    "# Asscess missingness\n",
    "featured_listing.count()"
   ]
  },
  {
   "cell_type": "code",
   "execution_count": 6,
   "metadata": {},
   "outputs": [],
   "source": [
    "# Drop missing row \n",
    "featured_listing = featured_listing.dropna(subset=['bedrooms', 'beds'])"
   ]
  },
  {
   "cell_type": "code",
   "execution_count": 7,
   "metadata": {},
   "outputs": [
    {
     "data": {
      "text/plain": [
       "id                          int64\n",
       "host_location              string\n",
       "neighbourhood_cleansed     string\n",
       "latitude                  float64\n",
       "longitude                 float64\n",
       "property_type              string\n",
       "accommodates                int64\n",
       "bedrooms                    int64\n",
       "beds                        int64\n",
       "room_type                  string\n",
       "amenities                  object\n",
       "dtype: object"
      ]
     },
     "execution_count": 7,
     "metadata": {},
     "output_type": "execute_result"
    }
   ],
   "source": [
    "# converted column data types from the original DataFrame as we saw fit\n",
    "str_lst = ['host_location', 'neighbourhood_cleansed', 'property_type', 'room_type']\n",
    "for col in str_lst:\n",
    "    featured_listing[col] = featured_listing[col].astype('string')\n",
    "\n",
    "int_lst = ['bedrooms', 'beds']\n",
    "for col in int_lst:\n",
    "    featured_listing[col] = featured_listing[col].astype(int)\n",
    "    \n",
    "featured_listing.dtypes"
   ]
  },
  {
   "cell_type": "markdown",
   "metadata": {},
   "source": [
    "### Calendar "
   ]
  },
  {
   "cell_type": "code",
   "execution_count": 8,
   "metadata": {},
   "outputs": [
    {
     "data": {
      "text/html": [
       "<div>\n",
       "<style scoped>\n",
       "    .dataframe tbody tr th:only-of-type {\n",
       "        vertical-align: middle;\n",
       "    }\n",
       "\n",
       "    .dataframe tbody tr th {\n",
       "        vertical-align: top;\n",
       "    }\n",
       "\n",
       "    .dataframe thead th {\n",
       "        text-align: right;\n",
       "    }\n",
       "</style>\n",
       "<table border=\"1\" class=\"dataframe\">\n",
       "  <thead>\n",
       "    <tr style=\"text-align: right;\">\n",
       "      <th></th>\n",
       "      <th>listing_id</th>\n",
       "      <th>date</th>\n",
       "      <th>available</th>\n",
       "      <th>price</th>\n",
       "      <th>adjusted_price</th>\n",
       "      <th>minimum_nights</th>\n",
       "      <th>maximum_nights</th>\n",
       "    </tr>\n",
       "  </thead>\n",
       "  <tbody>\n",
       "    <tr>\n",
       "      <th>5475</th>\n",
       "      <td>132966</td>\n",
       "      <td>2023-03-25</td>\n",
       "      <td>f</td>\n",
       "      <td>$100.00</td>\n",
       "      <td>$95.00</td>\n",
       "      <td>31</td>\n",
       "      <td>1120</td>\n",
       "    </tr>\n",
       "    <tr>\n",
       "      <th>5476</th>\n",
       "      <td>132966</td>\n",
       "      <td>2023-03-26</td>\n",
       "      <td>f</td>\n",
       "      <td>$100.00</td>\n",
       "      <td>$95.00</td>\n",
       "      <td>31</td>\n",
       "      <td>1120</td>\n",
       "    </tr>\n",
       "    <tr>\n",
       "      <th>5477</th>\n",
       "      <td>132966</td>\n",
       "      <td>2023-03-27</td>\n",
       "      <td>f</td>\n",
       "      <td>$100.00</td>\n",
       "      <td>$95.00</td>\n",
       "      <td>31</td>\n",
       "      <td>1120</td>\n",
       "    </tr>\n",
       "    <tr>\n",
       "      <th>5478</th>\n",
       "      <td>132966</td>\n",
       "      <td>2023-03-28</td>\n",
       "      <td>f</td>\n",
       "      <td>$100.00</td>\n",
       "      <td>$95.00</td>\n",
       "      <td>31</td>\n",
       "      <td>1120</td>\n",
       "    </tr>\n",
       "    <tr>\n",
       "      <th>5479</th>\n",
       "      <td>132966</td>\n",
       "      <td>2023-03-29</td>\n",
       "      <td>f</td>\n",
       "      <td>$100.00</td>\n",
       "      <td>$95.00</td>\n",
       "      <td>31</td>\n",
       "      <td>1120</td>\n",
       "    </tr>\n",
       "  </tbody>\n",
       "</table>\n",
       "</div>"
      ],
      "text/plain": [
       "      listing_id        date available    price adjusted_price  \\\n",
       "5475      132966  2023-03-25         f  $100.00         $95.00   \n",
       "5476      132966  2023-03-26         f  $100.00         $95.00   \n",
       "5477      132966  2023-03-27         f  $100.00         $95.00   \n",
       "5478      132966  2023-03-28         f  $100.00         $95.00   \n",
       "5479      132966  2023-03-29         f  $100.00         $95.00   \n",
       "\n",
       "      minimum_nights  maximum_nights  \n",
       "5475              31            1120  \n",
       "5476              31            1120  \n",
       "5477              31            1120  \n",
       "5478              31            1120  \n",
       "5479              31            1120  "
      ]
     },
     "execution_count": 8,
     "metadata": {},
     "output_type": "execute_result"
    }
   ],
   "source": [
    "# investigate two cloumns 'price' and 'adjusted_price'\n",
    "raw_calendar[(raw_calendar['price'] != raw_calendar['adjusted_price'])].head()"
   ]
  },
  {
   "cell_type": "code",
   "execution_count": 9,
   "metadata": {},
   "outputs": [],
   "source": [
    "# Get useful columns \n",
    "featured_calendar = raw_calendar[['listing_id', 'date', 'available', 'adjusted_price', \n",
    "                                  'minimum_nights', 'maximum_nights']]"
   ]
  },
  {
   "cell_type": "code",
   "execution_count": 10,
   "metadata": {
    "scrolled": false
   },
   "outputs": [
    {
     "data": {
      "text/html": [
       "<div>\n",
       "<style scoped>\n",
       "    .dataframe tbody tr th:only-of-type {\n",
       "        vertical-align: middle;\n",
       "    }\n",
       "\n",
       "    .dataframe tbody tr th {\n",
       "        vertical-align: top;\n",
       "    }\n",
       "\n",
       "    .dataframe thead th {\n",
       "        text-align: right;\n",
       "    }\n",
       "</style>\n",
       "<table border=\"1\" class=\"dataframe\">\n",
       "  <thead>\n",
       "    <tr style=\"text-align: right;\">\n",
       "      <th></th>\n",
       "      <th>listing_id</th>\n",
       "      <th>date</th>\n",
       "      <th>available</th>\n",
       "      <th>adjusted_price</th>\n",
       "      <th>minimum_nights</th>\n",
       "      <th>maximum_nights</th>\n",
       "    </tr>\n",
       "  </thead>\n",
       "  <tbody>\n",
       "    <tr>\n",
       "      <th>0</th>\n",
       "      <td>610920</td>\n",
       "      <td>2023-03-25</td>\n",
       "      <td>f</td>\n",
       "      <td>$725.00</td>\n",
       "      <td>3</td>\n",
       "      <td>14</td>\n",
       "    </tr>\n",
       "    <tr>\n",
       "      <th>1</th>\n",
       "      <td>610920</td>\n",
       "      <td>2023-03-26</td>\n",
       "      <td>f</td>\n",
       "      <td>$725.00</td>\n",
       "      <td>3</td>\n",
       "      <td>14</td>\n",
       "    </tr>\n",
       "    <tr>\n",
       "      <th>2</th>\n",
       "      <td>610920</td>\n",
       "      <td>2023-03-27</td>\n",
       "      <td>t</td>\n",
       "      <td>$725.00</td>\n",
       "      <td>3</td>\n",
       "      <td>14</td>\n",
       "    </tr>\n",
       "    <tr>\n",
       "      <th>3</th>\n",
       "      <td>610920</td>\n",
       "      <td>2023-03-28</td>\n",
       "      <td>t</td>\n",
       "      <td>$725.00</td>\n",
       "      <td>3</td>\n",
       "      <td>14</td>\n",
       "    </tr>\n",
       "    <tr>\n",
       "      <th>4</th>\n",
       "      <td>610920</td>\n",
       "      <td>2023-03-29</td>\n",
       "      <td>t</td>\n",
       "      <td>$725.00</td>\n",
       "      <td>3</td>\n",
       "      <td>14</td>\n",
       "    </tr>\n",
       "  </tbody>\n",
       "</table>\n",
       "</div>"
      ],
      "text/plain": [
       "   listing_id        date available adjusted_price  minimum_nights  \\\n",
       "0      610920  2023-03-25         f        $725.00               3   \n",
       "1      610920  2023-03-26         f        $725.00               3   \n",
       "2      610920  2023-03-27         t        $725.00               3   \n",
       "3      610920  2023-03-28         t        $725.00               3   \n",
       "4      610920  2023-03-29         t        $725.00               3   \n",
       "\n",
       "   maximum_nights  \n",
       "0              14  \n",
       "1              14  \n",
       "2              14  \n",
       "3              14  \n",
       "4              14  "
      ]
     },
     "execution_count": 10,
     "metadata": {},
     "output_type": "execute_result"
    }
   ],
   "source": [
    "featured_calendar.head()"
   ]
  },
  {
   "cell_type": "code",
   "execution_count": 11,
   "metadata": {},
   "outputs": [],
   "source": [
    "# Helper function to change columns type\n",
    "def clean_price(price):\n",
    "    return price.strip('$').replace(',', '')\n",
    "\n",
    "def to_boolean(available):\n",
    "    if available == 't':\n",
    "        return True\n",
    "    else:\n",
    "        return False"
   ]
  },
  {
   "cell_type": "code",
   "execution_count": 12,
   "metadata": {
    "scrolled": true
   },
   "outputs": [],
   "source": [
    "# converted column data types from the original DataFrame as we saw fit \n",
    "\n",
    "featured_calendar['adjusted_price'] = featured_calendar['adjusted_price'].astype(str).apply(clean_price).astype(float)\n",
    "featured_calendar['date'] = pd.to_datetime(featured_calendar['date'])\n",
    "featured_calendar['available'] = featured_calendar['available'].astype(str).apply(to_boolean)"
   ]
  },
  {
   "cell_type": "code",
   "execution_count": 13,
   "metadata": {
    "scrolled": true
   },
   "outputs": [
    {
     "data": {
      "text/html": [
       "<div>\n",
       "<style scoped>\n",
       "    .dataframe tbody tr th:only-of-type {\n",
       "        vertical-align: middle;\n",
       "    }\n",
       "\n",
       "    .dataframe tbody tr th {\n",
       "        vertical-align: top;\n",
       "    }\n",
       "\n",
       "    .dataframe thead th {\n",
       "        text-align: right;\n",
       "    }\n",
       "</style>\n",
       "<table border=\"1\" class=\"dataframe\">\n",
       "  <thead>\n",
       "    <tr style=\"text-align: right;\">\n",
       "      <th></th>\n",
       "      <th>listing_id</th>\n",
       "      <th>date</th>\n",
       "      <th>available</th>\n",
       "      <th>adjusted_price</th>\n",
       "      <th>minimum_nights</th>\n",
       "      <th>maximum_nights</th>\n",
       "    </tr>\n",
       "  </thead>\n",
       "  <tbody>\n",
       "    <tr>\n",
       "      <th>0</th>\n",
       "      <td>610920</td>\n",
       "      <td>2023-03-25</td>\n",
       "      <td>False</td>\n",
       "      <td>725.0</td>\n",
       "      <td>3</td>\n",
       "      <td>14</td>\n",
       "    </tr>\n",
       "    <tr>\n",
       "      <th>1</th>\n",
       "      <td>610920</td>\n",
       "      <td>2023-03-26</td>\n",
       "      <td>False</td>\n",
       "      <td>725.0</td>\n",
       "      <td>3</td>\n",
       "      <td>14</td>\n",
       "    </tr>\n",
       "    <tr>\n",
       "      <th>180</th>\n",
       "      <td>610920</td>\n",
       "      <td>2023-09-21</td>\n",
       "      <td>False</td>\n",
       "      <td>725.0</td>\n",
       "      <td>3</td>\n",
       "      <td>14</td>\n",
       "    </tr>\n",
       "    <tr>\n",
       "      <th>181</th>\n",
       "      <td>610920</td>\n",
       "      <td>2023-09-22</td>\n",
       "      <td>False</td>\n",
       "      <td>725.0</td>\n",
       "      <td>3</td>\n",
       "      <td>14</td>\n",
       "    </tr>\n",
       "    <tr>\n",
       "      <th>182</th>\n",
       "      <td>610920</td>\n",
       "      <td>2023-09-23</td>\n",
       "      <td>False</td>\n",
       "      <td>725.0</td>\n",
       "      <td>3</td>\n",
       "      <td>14</td>\n",
       "    </tr>\n",
       "  </tbody>\n",
       "</table>\n",
       "</div>"
      ],
      "text/plain": [
       "     listing_id       date  available  adjusted_price  minimum_nights  \\\n",
       "0        610920 2023-03-25      False           725.0               3   \n",
       "1        610920 2023-03-26      False           725.0               3   \n",
       "180      610920 2023-09-21      False           725.0               3   \n",
       "181      610920 2023-09-22      False           725.0               3   \n",
       "182      610920 2023-09-23      False           725.0               3   \n",
       "\n",
       "     maximum_nights  \n",
       "0                14  \n",
       "1                14  \n",
       "180              14  \n",
       "181              14  \n",
       "182              14  "
      ]
     },
     "execution_count": 13,
     "metadata": {},
     "output_type": "execute_result"
    }
   ],
   "source": [
    "# get only the row where available equals to False\n",
    "featured_stay_calendar = featured_calendar[featured_calendar['available'] == False]\n",
    "featured_stay_calendar.head()"
   ]
  },
  {
   "cell_type": "code",
   "execution_count": 44,
   "metadata": {
    "scrolled": true
   },
   "outputs": [
    {
     "data": {
      "text/html": [
       "<div>\n",
       "<style scoped>\n",
       "    .dataframe tbody tr th:only-of-type {\n",
       "        vertical-align: middle;\n",
       "    }\n",
       "\n",
       "    .dataframe tbody tr th {\n",
       "        vertical-align: top;\n",
       "    }\n",
       "\n",
       "    .dataframe thead th {\n",
       "        text-align: right;\n",
       "    }\n",
       "</style>\n",
       "<table border=\"1\" class=\"dataframe\">\n",
       "  <thead>\n",
       "    <tr style=\"text-align: right;\">\n",
       "      <th></th>\n",
       "      <th>id</th>\n",
       "      <th>host_location</th>\n",
       "      <th>neighbourhood_cleansed</th>\n",
       "      <th>latitude</th>\n",
       "      <th>longitude</th>\n",
       "      <th>property_type</th>\n",
       "      <th>accommodates</th>\n",
       "      <th>bedrooms</th>\n",
       "      <th>beds</th>\n",
       "      <th>room_type</th>\n",
       "      <th>amenities</th>\n",
       "      <th>listing_id</th>\n",
       "      <th>date</th>\n",
       "      <th>available</th>\n",
       "      <th>adjusted_price</th>\n",
       "      <th>minimum_nights</th>\n",
       "      <th>maximum_nights</th>\n",
       "    </tr>\n",
       "  </thead>\n",
       "  <tbody>\n",
       "    <tr>\n",
       "      <th>0</th>\n",
       "      <td>610920</td>\n",
       "      <td>San Diego, CA</td>\n",
       "      <td>La Jolla</td>\n",
       "      <td>32.812440</td>\n",
       "      <td>-117.26835</td>\n",
       "      <td>Entire home</td>\n",
       "      <td>4</td>\n",
       "      <td>3</td>\n",
       "      <td>3</td>\n",
       "      <td>Entire home/apt</td>\n",
       "      <td>[\"Refrigerator\", \"Iron\", \"Security cameras on ...</td>\n",
       "      <td>610920</td>\n",
       "      <td>2023-03-25</td>\n",
       "      <td>False</td>\n",
       "      <td>725.0</td>\n",
       "      <td>3</td>\n",
       "      <td>14</td>\n",
       "    </tr>\n",
       "    <tr>\n",
       "      <th>1</th>\n",
       "      <td>610920</td>\n",
       "      <td>San Diego, CA</td>\n",
       "      <td>La Jolla</td>\n",
       "      <td>32.812440</td>\n",
       "      <td>-117.26835</td>\n",
       "      <td>Entire home</td>\n",
       "      <td>4</td>\n",
       "      <td>3</td>\n",
       "      <td>3</td>\n",
       "      <td>Entire home/apt</td>\n",
       "      <td>[\"Refrigerator\", \"Iron\", \"Security cameras on ...</td>\n",
       "      <td>610920</td>\n",
       "      <td>2023-03-26</td>\n",
       "      <td>False</td>\n",
       "      <td>725.0</td>\n",
       "      <td>3</td>\n",
       "      <td>14</td>\n",
       "    </tr>\n",
       "    <tr>\n",
       "      <th>2</th>\n",
       "      <td>610920</td>\n",
       "      <td>San Diego, CA</td>\n",
       "      <td>La Jolla</td>\n",
       "      <td>32.812440</td>\n",
       "      <td>-117.26835</td>\n",
       "      <td>Entire home</td>\n",
       "      <td>4</td>\n",
       "      <td>3</td>\n",
       "      <td>3</td>\n",
       "      <td>Entire home/apt</td>\n",
       "      <td>[\"Refrigerator\", \"Iron\", \"Security cameras on ...</td>\n",
       "      <td>610920</td>\n",
       "      <td>2023-09-21</td>\n",
       "      <td>False</td>\n",
       "      <td>725.0</td>\n",
       "      <td>3</td>\n",
       "      <td>14</td>\n",
       "    </tr>\n",
       "    <tr>\n",
       "      <th>3</th>\n",
       "      <td>610920</td>\n",
       "      <td>San Diego, CA</td>\n",
       "      <td>La Jolla</td>\n",
       "      <td>32.812440</td>\n",
       "      <td>-117.26835</td>\n",
       "      <td>Entire home</td>\n",
       "      <td>4</td>\n",
       "      <td>3</td>\n",
       "      <td>3</td>\n",
       "      <td>Entire home/apt</td>\n",
       "      <td>[\"Refrigerator\", \"Iron\", \"Security cameras on ...</td>\n",
       "      <td>610920</td>\n",
       "      <td>2023-09-22</td>\n",
       "      <td>False</td>\n",
       "      <td>725.0</td>\n",
       "      <td>3</td>\n",
       "      <td>14</td>\n",
       "    </tr>\n",
       "    <tr>\n",
       "      <th>4</th>\n",
       "      <td>610920</td>\n",
       "      <td>San Diego, CA</td>\n",
       "      <td>La Jolla</td>\n",
       "      <td>32.812440</td>\n",
       "      <td>-117.26835</td>\n",
       "      <td>Entire home</td>\n",
       "      <td>4</td>\n",
       "      <td>3</td>\n",
       "      <td>3</td>\n",
       "      <td>Entire home/apt</td>\n",
       "      <td>[\"Refrigerator\", \"Iron\", \"Security cameras on ...</td>\n",
       "      <td>610920</td>\n",
       "      <td>2023-09-23</td>\n",
       "      <td>False</td>\n",
       "      <td>725.0</td>\n",
       "      <td>3</td>\n",
       "      <td>14</td>\n",
       "    </tr>\n",
       "    <tr>\n",
       "      <th>...</th>\n",
       "      <td>...</td>\n",
       "      <td>...</td>\n",
       "      <td>...</td>\n",
       "      <td>...</td>\n",
       "      <td>...</td>\n",
       "      <td>...</td>\n",
       "      <td>...</td>\n",
       "      <td>...</td>\n",
       "      <td>...</td>\n",
       "      <td>...</td>\n",
       "      <td>...</td>\n",
       "      <td>...</td>\n",
       "      <td>...</td>\n",
       "      <td>...</td>\n",
       "      <td>...</td>\n",
       "      <td>...</td>\n",
       "      <td>...</td>\n",
       "    </tr>\n",
       "    <tr>\n",
       "      <th>2075777</th>\n",
       "      <td>849558022932891841</td>\n",
       "      <td>San Diego, CA</td>\n",
       "      <td>Loma Portal</td>\n",
       "      <td>32.748687</td>\n",
       "      <td>-117.24386</td>\n",
       "      <td>Entire home</td>\n",
       "      <td>4</td>\n",
       "      <td>2</td>\n",
       "      <td>2</td>\n",
       "      <td>Entire home/apt</td>\n",
       "      <td>[\"Refrigerator\", \"Iron\", \"Clothing storage: cl...</td>\n",
       "      <td>849558022932891841</td>\n",
       "      <td>2023-04-27</td>\n",
       "      <td>False</td>\n",
       "      <td>288.0</td>\n",
       "      <td>5</td>\n",
       "      <td>365</td>\n",
       "    </tr>\n",
       "    <tr>\n",
       "      <th>2075778</th>\n",
       "      <td>849558022932891841</td>\n",
       "      <td>San Diego, CA</td>\n",
       "      <td>Loma Portal</td>\n",
       "      <td>32.748687</td>\n",
       "      <td>-117.24386</td>\n",
       "      <td>Entire home</td>\n",
       "      <td>4</td>\n",
       "      <td>2</td>\n",
       "      <td>2</td>\n",
       "      <td>Entire home/apt</td>\n",
       "      <td>[\"Refrigerator\", \"Iron\", \"Clothing storage: cl...</td>\n",
       "      <td>849558022932891841</td>\n",
       "      <td>2023-04-28</td>\n",
       "      <td>False</td>\n",
       "      <td>431.0</td>\n",
       "      <td>5</td>\n",
       "      <td>365</td>\n",
       "    </tr>\n",
       "    <tr>\n",
       "      <th>2075779</th>\n",
       "      <td>849558022932891841</td>\n",
       "      <td>San Diego, CA</td>\n",
       "      <td>Loma Portal</td>\n",
       "      <td>32.748687</td>\n",
       "      <td>-117.24386</td>\n",
       "      <td>Entire home</td>\n",
       "      <td>4</td>\n",
       "      <td>2</td>\n",
       "      <td>2</td>\n",
       "      <td>Entire home/apt</td>\n",
       "      <td>[\"Refrigerator\", \"Iron\", \"Clothing storage: cl...</td>\n",
       "      <td>849558022932891841</td>\n",
       "      <td>2023-04-29</td>\n",
       "      <td>False</td>\n",
       "      <td>414.0</td>\n",
       "      <td>5</td>\n",
       "      <td>365</td>\n",
       "    </tr>\n",
       "    <tr>\n",
       "      <th>2075780</th>\n",
       "      <td>849558022932891841</td>\n",
       "      <td>San Diego, CA</td>\n",
       "      <td>Loma Portal</td>\n",
       "      <td>32.748687</td>\n",
       "      <td>-117.24386</td>\n",
       "      <td>Entire home</td>\n",
       "      <td>4</td>\n",
       "      <td>2</td>\n",
       "      <td>2</td>\n",
       "      <td>Entire home/apt</td>\n",
       "      <td>[\"Refrigerator\", \"Iron\", \"Clothing storage: cl...</td>\n",
       "      <td>849558022932891841</td>\n",
       "      <td>2023-04-30</td>\n",
       "      <td>False</td>\n",
       "      <td>275.0</td>\n",
       "      <td>5</td>\n",
       "      <td>365</td>\n",
       "    </tr>\n",
       "    <tr>\n",
       "      <th>2075781</th>\n",
       "      <td>849558022932891841</td>\n",
       "      <td>San Diego, CA</td>\n",
       "      <td>Loma Portal</td>\n",
       "      <td>32.748687</td>\n",
       "      <td>-117.24386</td>\n",
       "      <td>Entire home</td>\n",
       "      <td>4</td>\n",
       "      <td>2</td>\n",
       "      <td>2</td>\n",
       "      <td>Entire home/apt</td>\n",
       "      <td>[\"Refrigerator\", \"Iron\", \"Clothing storage: cl...</td>\n",
       "      <td>849558022932891841</td>\n",
       "      <td>2024-03-23</td>\n",
       "      <td>False</td>\n",
       "      <td>650.0</td>\n",
       "      <td>5</td>\n",
       "      <td>365</td>\n",
       "    </tr>\n",
       "  </tbody>\n",
       "</table>\n",
       "<p>2075782 rows × 17 columns</p>\n",
       "</div>"
      ],
      "text/plain": [
       "                         id  host_location neighbourhood_cleansed   latitude  \\\n",
       "0                    610920  San Diego, CA               La Jolla  32.812440   \n",
       "1                    610920  San Diego, CA               La Jolla  32.812440   \n",
       "2                    610920  San Diego, CA               La Jolla  32.812440   \n",
       "3                    610920  San Diego, CA               La Jolla  32.812440   \n",
       "4                    610920  San Diego, CA               La Jolla  32.812440   \n",
       "...                     ...            ...                    ...        ...   \n",
       "2075777  849558022932891841  San Diego, CA            Loma Portal  32.748687   \n",
       "2075778  849558022932891841  San Diego, CA            Loma Portal  32.748687   \n",
       "2075779  849558022932891841  San Diego, CA            Loma Portal  32.748687   \n",
       "2075780  849558022932891841  San Diego, CA            Loma Portal  32.748687   \n",
       "2075781  849558022932891841  San Diego, CA            Loma Portal  32.748687   \n",
       "\n",
       "         longitude property_type  accommodates  bedrooms  beds  \\\n",
       "0       -117.26835   Entire home             4         3     3   \n",
       "1       -117.26835   Entire home             4         3     3   \n",
       "2       -117.26835   Entire home             4         3     3   \n",
       "3       -117.26835   Entire home             4         3     3   \n",
       "4       -117.26835   Entire home             4         3     3   \n",
       "...            ...           ...           ...       ...   ...   \n",
       "2075777 -117.24386   Entire home             4         2     2   \n",
       "2075778 -117.24386   Entire home             4         2     2   \n",
       "2075779 -117.24386   Entire home             4         2     2   \n",
       "2075780 -117.24386   Entire home             4         2     2   \n",
       "2075781 -117.24386   Entire home             4         2     2   \n",
       "\n",
       "               room_type                                          amenities  \\\n",
       "0        Entire home/apt  [\"Refrigerator\", \"Iron\", \"Security cameras on ...   \n",
       "1        Entire home/apt  [\"Refrigerator\", \"Iron\", \"Security cameras on ...   \n",
       "2        Entire home/apt  [\"Refrigerator\", \"Iron\", \"Security cameras on ...   \n",
       "3        Entire home/apt  [\"Refrigerator\", \"Iron\", \"Security cameras on ...   \n",
       "4        Entire home/apt  [\"Refrigerator\", \"Iron\", \"Security cameras on ...   \n",
       "...                  ...                                                ...   \n",
       "2075777  Entire home/apt  [\"Refrigerator\", \"Iron\", \"Clothing storage: cl...   \n",
       "2075778  Entire home/apt  [\"Refrigerator\", \"Iron\", \"Clothing storage: cl...   \n",
       "2075779  Entire home/apt  [\"Refrigerator\", \"Iron\", \"Clothing storage: cl...   \n",
       "2075780  Entire home/apt  [\"Refrigerator\", \"Iron\", \"Clothing storage: cl...   \n",
       "2075781  Entire home/apt  [\"Refrigerator\", \"Iron\", \"Clothing storage: cl...   \n",
       "\n",
       "                 listing_id       date  available  adjusted_price  \\\n",
       "0                    610920 2023-03-25      False           725.0   \n",
       "1                    610920 2023-03-26      False           725.0   \n",
       "2                    610920 2023-09-21      False           725.0   \n",
       "3                    610920 2023-09-22      False           725.0   \n",
       "4                    610920 2023-09-23      False           725.0   \n",
       "...                     ...        ...        ...             ...   \n",
       "2075777  849558022932891841 2023-04-27      False           288.0   \n",
       "2075778  849558022932891841 2023-04-28      False           431.0   \n",
       "2075779  849558022932891841 2023-04-29      False           414.0   \n",
       "2075780  849558022932891841 2023-04-30      False           275.0   \n",
       "2075781  849558022932891841 2024-03-23      False           650.0   \n",
       "\n",
       "         minimum_nights  maximum_nights  \n",
       "0                     3              14  \n",
       "1                     3              14  \n",
       "2                     3              14  \n",
       "3                     3              14  \n",
       "4                     3              14  \n",
       "...                 ...             ...  \n",
       "2075777               5             365  \n",
       "2075778               5             365  \n",
       "2075779               5             365  \n",
       "2075780               5             365  \n",
       "2075781               5             365  \n",
       "\n",
       "[2075782 rows x 17 columns]"
      ]
     },
     "execution_count": 44,
     "metadata": {},
     "output_type": "execute_result"
    }
   ],
   "source": [
    "# Merge two dataframe\n",
    "merged_df = featured_listing.merge(featured_stay_calendar, left_on = 'id', right_on = 'listing_id')\n",
    "merged_df.head()\n",
    "merged_df"
   ]
  },
  {
   "cell_type": "code",
   "execution_count": 15,
   "metadata": {
    "scrolled": true
   },
   "outputs": [
    {
     "data": {
      "text/plain": [
       "id                        False\n",
       "host_location              True\n",
       "neighbourhood_cleansed    False\n",
       "latitude                  False\n",
       "longitude                 False\n",
       "property_type             False\n",
       "accommodates              False\n",
       "bedrooms                  False\n",
       "beds                      False\n",
       "room_type                 False\n",
       "amenities                 False\n",
       "listing_id                False\n",
       "date                      False\n",
       "available                 False\n",
       "adjusted_price            False\n",
       "minimum_nights            False\n",
       "maximum_nights            False\n",
       "dtype: bool"
      ]
     },
     "execution_count": 15,
     "metadata": {},
     "output_type": "execute_result"
    }
   ],
   "source": [
    "# Assess missing data\n",
    "merged_df.isna().any()"
   ]
  },
  {
   "cell_type": "code",
   "execution_count": 16,
   "metadata": {
    "scrolled": true
   },
   "outputs": [
    {
     "data": {
      "text/plain": [
       "count             2075782\n",
       "unique                  4\n",
       "top       Entire home/apt\n",
       "freq              1672833\n",
       "Name: room_type, dtype: object"
      ]
     },
     "execution_count": 16,
     "metadata": {},
     "output_type": "execute_result"
    }
   ],
   "source": [
    "# Drop the row if adjusted price is missing \n",
    "merged_df.dropna(subset=['adjusted_price'])\n",
    "merged_df.head()\n",
    "merged_df['room_type'].describe()"
   ]
  },
  {
   "cell_type": "markdown",
   "metadata": {},
   "source": [
    "1. clean both df -> change the column type to the correct type (done)\n",
    "2. try merging the dfs base on the id in featured_listing df (done)\n",
    "3. acssess missing rows (maybe drop them) (done)\n",
    "    clean features \n",
    "4. Univariate Analysis -> graph (histgram)\n",
    "5. Bivariate Analysis -> graph \n",
    "\n",
    "5. extract feature \n",
    "6. create basic pipline -> build base model "
   ]
  },
  {
   "cell_type": "code",
   "execution_count": 17,
   "metadata": {},
   "outputs": [
    {
     "data": {
      "text/plain": [
       "975.0"
      ]
     },
     "execution_count": 17,
     "metadata": {},
     "output_type": "execute_result"
    }
   ],
   "source": [
    "merged_df['adjusted_price'].quantile(.95)"
   ]
  },
  {
   "cell_type": "code",
   "execution_count": 34,
   "metadata": {
    "scrolled": false
   },
   "outputs": [
    {
     "data": {
      "image/png": "[encoded data removed]",
      "text/plain": [
       "<Figure size 640x480 with 1 Axes>"
      ]
     },
     "metadata": {},
     "output_type": "display_data"
    }
   ],
   "source": [
    "plt.hist(merged_df['adjusted_price'], range=[0,975], bins = 100)\n",
    "plt.title(\"Histogram of Adjusted Price\")\n",
    "plt.xlabel(\"Price\")\n",
    "plt.ylabel(\"Frequency\")\n",
    "plt.show()"
   ]
  },
  {
   "cell_type": "code",
   "execution_count": 19,
   "metadata": {},
   "outputs": [
    {
     "data": {
      "text/plain": [
       "31.0"
      ]
     },
     "execution_count": 19,
     "metadata": {},
     "output_type": "execute_result"
    }
   ],
   "source": [
    "merged_df['minimum_nights'].quantile(.95)"
   ]
  },
  {
   "cell_type": "code",
   "execution_count": 33,
   "metadata": {
    "scrolled": false
   },
   "outputs": [
    {
     "data": {
      "image/png": "[encoded data removed]",
      "text/plain": [
       "<Figure size 640x480 with 1 Axes>"
      ]
     },
     "metadata": {},
     "output_type": "display_data"
    }
   ],
   "source": [
    "plt.hist(merged_df['minimum_nights'], range=[0,31], bins = 31, density=True)\n",
    "plt.title(\"Histogram of Minimum Nights\")\n",
    "plt.xlabel(\"Minimum Nights to stay\")\n",
    "plt.ylabel(\"Ratio\")\n",
    "plt.show()"
   ]
  },
  {
   "cell_type": "code",
   "execution_count": 32,
   "metadata": {
    "scrolled": false
   },
   "outputs": [
    {
     "data": {
      "image/png": "[encoded data removed]",
      "text/plain": [
       "<Figure size 2000x600 with 1 Axes>"
      ]
     },
     "metadata": {},
     "output_type": "display_data"
    }
   ],
   "source": [
    "sns.set(font_scale = 0.8)\n",
    "merged_df[\"neighbourhood_cleansed\"].value_counts().plot(kind = 'bar', figsize=(20, 6))\n",
    "plt.title(\"Number of Airbnb by Neighborhoods\")\n",
    "plt.xlabel(\"Neighborhoods\")\n",
    "plt.ylabel(\"Frequency\")\n",
    "plt.show()"
   ]
  },
  {
   "cell_type": "markdown",
   "metadata": {},
   "source": [
    "# Proposed Solution\n",
    "\n",
    "We plan to build at least two models using Sklearn modules to compare their results for predicting airbnb prices in San Diego. Our thought is to use RandomForestRegressor model and polynomial regression model. Since our data consist of a decent amount of categorical variables as well as numerical variables, we will use one-hot encoding before putting all those data into two models. In order to test our model and to see how our models can generalize on unseen data, we will split our data into testing and training. For the training data, we will then use k-fold validation and GridSearchCV to make sure our data is not overfitting and tune our hyperparameter accordingly. \n",
    "Our General Plan as for now consist of those following step:\n",
    "1. Data cleaning and using python and pandas\n",
    "    - Drop out irrelevant features and data\n",
    "    - Univariate Analysis\n",
    "    - Bivariate Analysis\n",
    "    - Assessment of Missingness \n",
    "2. Feature extraction using python and regex \n",
    "    - One-hot encoding for categorical features \n",
    "    - Assess numerical features and standardize relevant features \n",
    "3. Split the dataset into testing and training \n",
    "4. Build a baseline model \n",
    "5. Implement two models, use k-fold cross validation and GridSearchCV\n",
    "6. After achieving good prediction use the best performed model on testing dataset"
   ]
  },
  {
   "cell_type": "markdown",
   "metadata": {},
   "source": [
    "# Evaluation Metrics\n",
    "\n",
    "An appropriate evaluation metric, such as Root Mean Square Error (RMSE) will be used to quantify the performance of the model. This metric quantifies the difference between predicted and actual prices, providing an indication of the model's accuracy. The Root Mean Square Error is calculated by the following formula:\n",
    "$$\n",
    "\\text{RMSE}(y, \\hat{y}) = \\sqrt{\\frac{\\sum_{i=0}^{N - 1} (y_i - \\hat{y}_i)^2}{N}}\n",
    "$$\n",
    "where N is the number of the data samples, is the ith measurement, and  is the corresponding predictions of the sample."
   ]
  },
  {
   "cell_type": "markdown",
   "metadata": {},
   "source": [
    "# Preliminary results\n",
    "\n",
    "NEW SECTION!\n",
    "\n",
    "Please show any preliminary results you have managed to obtain.\n",
    "\n",
    "Examples would include:\n",
    "- Analyzing the suitability of a dataset or alogrithm for prediction/solving your problem \n",
    "- Performing feature selection or hand-designing features from the raw data. Describe the features available/created and/or show the code for selection/creation\n",
    "- Showing the performance of a base model/hyper-parameter setting.  Solve the task with one \"default\" algorithm and characterize the performance level of that base model.\n",
    "- Learning curves or validation curves for a particular model\n",
    "- Tables/graphs showing the performance of different models/hyper-parameters\n",
    "\n"
   ]
  },
  {
   "cell_type": "markdown",
   "metadata": {},
   "source": [
    "# Ethics & Privacy"
   ]
  },
  {
   "cell_type": "markdown",
   "metadata": {},
   "source": [
    "- Data Collection:\n",
    "    - Informed consent:\n",
    "Our dataset is extracted from official documentation published by Airbnb. The information can be searched online and hosts sign a form of consent when the properties are listed on the market, so there should not be any legal issues.\n",
    "    - Collection bias:\n",
    "The dataset is comprehensively collected from every single listing in the area of San Diego. So, there is no foreseeable bias in the process of data collection.\n",
    "    - Limit PII exposure:\n",
    "The dataset contains names of the hosts, so we will delete the sensitive information such as their ID and names of the hosts in the data cleaning processes.\n",
    "\n",
    "\n",
    "- Data Storage\n",
    "    - Data Security and Right to be forgotten\n",
    "In compliance with regulations such as the GDPR, we respect the 'right to be forgotten.' If an individual whose data is included in our project requests for their data to be erased, we are obligated to do so, provided there are no legal grounds for retaining it. This helps to ensure that individuals maintain control over their personal data.\n",
    "    - Data retention plan:\n",
    "We recognize the importance of not retaining data longer than necessary. Our default position will be to retain data for only as long as it is required for the purpose of the project. Once the data is no longer necessary, we will safely and securely delete it.\n",
    "\n",
    "\n",
    "- Analysis\n",
    "    - Missing perspectives\n",
    "For this project, we do not obtain the source of expertise knowledge or any affected communities. \n",
    "    - Dataset bias: \n",
    "Our datasets record the fundamental features of listings in San Diego are. The data it contained does not contain any information that can be related to stereotype perpetuation or imbalance classes. One variable that might be confounding in our dataset is “license”. According to our research, Airbnb's official forum provides information regarding this feature. Excerpting from Airbnb’s official response: “Some cities require Hosts to obtain a license or registration number to list their places on Airbnb. The corresponding field on their listing allows them to show that number for compliance.” This provides us an understanding of what a license is and how it applies to the property listing. Additionally, Airbnb also suggests that “license” might not be necessary for some cities, depending on the policies. For those properties that have status ‘city registration pending’ or ‘exempt’, Airbnb claims that it will not affect the veracity and safety of the listings.\n",
    "    - Honest Representation:\n",
    "Our visualizations, summary statistics, and reports will honestly represent the underlying data.\n",
    "    - Privacy in Analysis:\n",
    "Yes, we will remove the data that are related to IDs or host name in the data cleaning process.\n",
    "    - Auditability:\n",
    "Yes, the process will be able to reproduce using the dataset we provides and the technique we used. \n",
    "\n",
    "\n",
    "\n",
    "- Modeling\n",
    "    - Proxy Discrimination:\n",
    "We will ensure that the model does not inadvertently result in discrimination through the use of proxy variables - variables that correlate with protected characteristics such as race, age, or gender.\n",
    "    - Fairness across groups:\n",
    "We will prioritize fairness across all groups to ensure that no one group will receive favor based on any characteristics. We will utilize techniques to check if our model is biased, and if it is, we will mitigate it and re-evaluate our model.\n",
    "    - Metric selection:\n",
    "RMSE\n",
    "    - Explainability:\n",
    "We aim to choose a model that achieves a balance between explainability and accuracy. While more complex models offer better accuracy and predictiveness, it will more often be harder to explain. It is important for us to understand how a model is making its decisions.\n",
    "\n",
    "\n",
    "- Deployment\n",
    "    - Monitoring and evaluation:\n",
    "Once the model is deployed, there is a need to monitor the performance and fairness continuously. We will track metrics like the model’s accuracy and potential bias over time and across different groups.\n",
    "Redress\n",
    "    - Roll back:\n",
    "A roll-back plan will be in place to revert to a previous version of the model or even to stop using the model altogether if serious issues arise. This could be necessary if the model starts performing poorly or if significant bias is discovered that can't be quickly mitigated. \n",
    "    - Redress:\n",
    "We will officially apologize to those who are harmed by our project and provide contact information for them to reach out for a solution\n",
    "    - Unintended use:\n",
    "Some unintended use for our project can be customers/guests using our results to argue with the host for lower prices, which might have negative effects on the revenue of listing properties.\n"
   ]
  },
  {
   "cell_type": "markdown",
   "metadata": {},
   "source": [
    "# Team Expectations "
   ]
  },
  {
   "cell_type": "markdown",
   "metadata": {},
   "source": [
    "Put things here that cement how you will interact/communicate as a team, how you will handle conflict and difficulty, how you will handle making decisions and setting goals/schedule, how much work you expect from each other, how you will handle deadlines, etc...\n",
    "* *All team members actively engage in the discussion of our project*\n",
    "* *All team members have completed their respective tasks on time while maintaining a high standard of quality in their work*\n",
    "* *All team members contribute equally to solution and information research*"
   ]
  },
  {
   "cell_type": "markdown",
   "metadata": {},
   "source": [
    "# Project Timeline Proposal"
   ]
  },
  {
   "cell_type": "markdown",
   "metadata": {},
   "source": [
    "| Meeting Date  | Meeting Time| Completed Before Meeting  | Discuss at Meeting |\n",
    "|---|---|---|---|\n",
    "| 5/10  |  7-8 PM |  Brainstorm topics/questions (all)  | Determine best form of communication; Discuss and decide on final project topic; discuss hypothesis; begin background research | \n",
    "| 5/15  |  5-8 PM |  Do background research on topic (all) | Discuss ideal dataset(s) and ethics; draft project proposal | \n",
    "| 5/17  | 4-8 PM  | Edit, finalize, and submit proposal; Search for datasets (all)  | Discuss Wrangling and possible analytical approaches; Assign group members to lead each specific part   |\n"
   ]
  },
  {
   "cell_type": "markdown",
   "metadata": {},
   "source": [
    "# Footnotes\n",
    "<a name=\"airbnbstats\"></a>1.[^](#airbnbstats): “Airbnb Statistics [2023]: User & Market Growth Data.” SearchLogistics, 28 Apr. 2023, www.searchlogistics.com/learn/statistics/airbnb-statistics/. <br>\n",
    "<a name=\"airbnbsd\"></a>2.[^](#airbnbsd): “San Diego.” Inside Airbnb: Home, insideairbnb.com/san-diego. Accessed 17 May 2023. \n"
   ]
  }
 ],
 "metadata": {
  "kernelspec": {
   "display_name": "Python 3 (ipykernel)",
   "language": "python",
   "name": "python3"
  },
  "language_info": {
   "codemirror_mode": {
    "name": "ipython",
    "version": 3
   },
   "file_extension": ".py",
   "mimetype": "text/x-python",
   "name": "python",
   "nbconvert_exporter": "python",
   "pygments_lexer": "ipython3",
   "version": "3.9.13"
  }
 },
 "nbformat": 4,
 "nbformat_minor": 2
}

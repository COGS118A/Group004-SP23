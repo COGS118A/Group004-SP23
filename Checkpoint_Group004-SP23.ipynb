{
 "cells": [
  {
   "cell_type": "markdown",
   "metadata": {},
   "source": [
    "# COGS 118A - Project Checkpoint"
   ]
  },
  {
   "cell_type": "markdown",
   "metadata": {},
   "source": [
    "# Names\n",
    "\n",
    "- Guanyu Zhu\n",
    "- Tze Howe Yap\n",
    "- David Chen\n",
    "- Cassidy Lu"
   ]
  },
  {
   "cell_type": "markdown",
   "metadata": {},
   "source": [
    "# Abstract \n",
    "\n",
    "Airbnb is a well known internet marketplace for short-term home and apartment rentals. Hosts often face difficulty in determining an optimal price for their listings. Both overpricing and underpricing can lead to revenue loss. To solve this problem, we use previews listed Airbnb in San Diego including their price and descriptions to encode those into machine learning models. \n",
    " We aim to develop a model that can successfully predict Airbnb prices in San Diego based on relevant property features. We measure the model’s accuracy using R^2 and calculate the loss using RMSE. "
   ]
  },
  {
   "cell_type": "markdown",
   "metadata": {},
   "source": [
    "# Background\n",
    "\n",
    "On May 5, 2023, the CDC announced the End of the Federal COVID-19 Public Health Emergency (PHE) Declaration, signaling an official end to this unprecedented pandemic. What's to come is the recovery of the global travel market. Across the entire world, there are currently over 4 million+ Airbnb hosts worldwide and 6 million+ active listings on the platform. In addition to the staggering number of hosts, there are more than 150 million users, and the overall number of bookings through Airbnb has surpassed 100 million.<a name=\"airbnbstats\"></a>[<sup>[1]</sup>](#airbnbstats) In the area of San Diego alone, there are a total of 12,871 listings, with 87.1% of them being short-term rentals. Additionally, 66.3% of hosts have multiple listings, indicating that most hosts have more than one property on the market.<a name=\"airbnbsd\"></a>[<sup>[2]</sup>](#airbnbsd) For those with a large number of listing properties, it becomes challenging to thoroughly investigate and change prices daily. Therefore, having a comparable prediction as a reference for their decision would be beneficial. The potential of the short-term rental market is enormous and growing exponentially. However, it's not just people with multiple listings who struggle with setting a fair price; new hosts also typically face difficulties when initially deciding on the price for their listings.\n",
    "\n",
    "When you try to list your home on airbnb, you’ll need to do market research on the similar homes near you, finding out the average price of the market, and then determine the price that you would like to set for your home. The problem is that you can’t list a price and never change it forever. You need to change the price frequently based on market price, which means each time you want to change the price you need to do the market research again, which is a lot of work. In this case, if you have a program that can predict the price base on the model that has previously been trained on similar data from already existing listings would be pretty helpful. \n"
   ]
  },
  {
   "cell_type": "markdown",
   "metadata": {},
   "source": [
    "# Problem Statement\n",
    "\n",
    "Setting a reasonable price for an airbnb host is hard to achieve. They need to predict other similar listings’ prices in order to maximize the profit. We aim to utilize machine learning algorithms to analyze past data and train a predictive model that can most accurately predict the most profitable airbnb price based on the property’s features and location. \n"
   ]
  },
  {
   "cell_type": "markdown",
   "metadata": {},
   "source": [
    "# Data\n",
    "\n",
    "UPDATED FROM PROPOSAL!\n",
    "\n",
    "You should have obtained and cleaned (if necessary) data you will use for this project.\n",
    "\n",
    "Please give the following infomration for each dataset you are using\n",
    "- link/reference to obtain it\n",
    "- description of the size of the dataset (# of variables, # of observations)\n",
    "- what an observation consists of\n",
    "- what some critical variables are, how they are represented\n",
    "- any special handling, transformations, cleaning, etc you have done should be demonstrated here!\n"
   ]
  },
  {
   "cell_type": "code",
   "execution_count": 1,
   "metadata": {},
   "outputs": [],
   "source": [
    "# imports \n",
    "import numpy as np\n",
    "import pandas as pd\n",
    "\n",
    "import warnings\n",
    "from pandas.core.common import SettingWithCopyWarning\n",
    "warnings.simplefilter(action=\"ignore\", category=SettingWithCopyWarning)"
   ]
  },
  {
   "cell_type": "code",
   "execution_count": 2,
   "metadata": {},
   "outputs": [],
   "source": [
    "# load in both dataframe\n",
    "raw_listing = pd.read_csv('data/listings.csv')\n",
    "raw_calendar = pd.read_csv('data/calendar.csv.gz')"
   ]
  },
  {
   "cell_type": "markdown",
   "metadata": {},
   "source": [
    "## Data Cleaning"
   ]
  },
  {
   "cell_type": "markdown",
   "metadata": {},
   "source": [
    "### Listing "
   ]
  },
  {
   "cell_type": "code",
   "execution_count": 3,
   "metadata": {
    "scrolled": true
   },
   "outputs": [],
   "source": [
    "# Get useful column assign to new dataframe\n",
    "featured_listing = raw_listing[['id', 'neighbourhood', 'latitude', 'longitude', \n",
    "                                'room_type']]"
   ]
  },
  {
   "cell_type": "code",
   "execution_count": 4,
   "metadata": {
    "scrolled": true
   },
   "outputs": [
    {
     "data": {
      "text/html": [
       "<div>\n",
       "<style scoped>\n",
       "    .dataframe tbody tr th:only-of-type {\n",
       "        vertical-align: middle;\n",
       "    }\n",
       "\n",
       "    .dataframe tbody tr th {\n",
       "        vertical-align: top;\n",
       "    }\n",
       "\n",
       "    .dataframe thead th {\n",
       "        text-align: right;\n",
       "    }\n",
       "</style>\n",
       "<table border=\"1\" class=\"dataframe\">\n",
       "  <thead>\n",
       "    <tr style=\"text-align: right;\">\n",
       "      <th></th>\n",
       "      <th>id</th>\n",
       "      <th>neighbourhood</th>\n",
       "      <th>latitude</th>\n",
       "      <th>longitude</th>\n",
       "      <th>room_type</th>\n",
       "    </tr>\n",
       "  </thead>\n",
       "  <tbody>\n",
       "    <tr>\n",
       "      <th>0</th>\n",
       "      <td>484515</td>\n",
       "      <td>Hollywood</td>\n",
       "      <td>25.993770</td>\n",
       "      <td>-80.118300</td>\n",
       "      <td>Entire home/apt</td>\n",
       "    </tr>\n",
       "    <tr>\n",
       "      <th>1</th>\n",
       "      <td>827736378366911479</td>\n",
       "      <td>Fort Lauderdale</td>\n",
       "      <td>26.093936</td>\n",
       "      <td>-80.137591</td>\n",
       "      <td>Entire home/apt</td>\n",
       "    </tr>\n",
       "    <tr>\n",
       "      <th>2</th>\n",
       "      <td>592589963829194972</td>\n",
       "      <td>Pompano Beach</td>\n",
       "      <td>26.223850</td>\n",
       "      <td>-80.090990</td>\n",
       "      <td>Private room</td>\n",
       "    </tr>\n",
       "    <tr>\n",
       "      <th>3</th>\n",
       "      <td>45990221</td>\n",
       "      <td>Pompano Beach</td>\n",
       "      <td>26.226130</td>\n",
       "      <td>-80.158590</td>\n",
       "      <td>Entire home/apt</td>\n",
       "    </tr>\n",
       "    <tr>\n",
       "      <th>4</th>\n",
       "      <td>11972837</td>\n",
       "      <td>Pompano Beach</td>\n",
       "      <td>26.226220</td>\n",
       "      <td>-80.158710</td>\n",
       "      <td>Entire home/apt</td>\n",
       "    </tr>\n",
       "  </tbody>\n",
       "</table>\n",
       "</div>"
      ],
      "text/plain": [
       "                   id    neighbourhood   latitude  longitude        room_type\n",
       "0              484515        Hollywood  25.993770 -80.118300  Entire home/apt\n",
       "1  827736378366911479  Fort Lauderdale  26.093936 -80.137591  Entire home/apt\n",
       "2  592589963829194972    Pompano Beach  26.223850 -80.090990     Private room\n",
       "3            45990221    Pompano Beach  26.226130 -80.158590  Entire home/apt\n",
       "4            11972837    Pompano Beach  26.226220 -80.158710  Entire home/apt"
      ]
     },
     "execution_count": 4,
     "metadata": {},
     "output_type": "execute_result"
    }
   ],
   "source": [
    "featured_listing.head()"
   ]
  },
  {
   "cell_type": "code",
   "execution_count": 6,
   "metadata": {},
   "outputs": [
    {
     "data": {
      "text/plain": [
       "id                 int64\n",
       "neighbourhood     string\n",
       "latitude         float64\n",
       "longitude        float64\n",
       "room_type         string\n",
       "dtype: object"
      ]
     },
     "execution_count": 6,
     "metadata": {},
     "output_type": "execute_result"
    }
   ],
   "source": [
    "# converted column data types from the original DataFrame as we saw fit\n",
    "\n",
    "featured_listing['neighbourhood'] = featured_listing['neighbourhood'].astype('string')\n",
    "featured_listing['room_type'] = featured_listing['room_type'].astype('string')\n",
    "featured_listing.dtypes"
   ]
  },
  {
   "cell_type": "markdown",
   "metadata": {},
   "source": [
    "### Calendar "
   ]
  },
  {
   "cell_type": "code",
   "execution_count": 7,
   "metadata": {},
   "outputs": [
    {
     "data": {
      "text/html": [
       "<div>\n",
       "<style scoped>\n",
       "    .dataframe tbody tr th:only-of-type {\n",
       "        vertical-align: middle;\n",
       "    }\n",
       "\n",
       "    .dataframe tbody tr th {\n",
       "        vertical-align: top;\n",
       "    }\n",
       "\n",
       "    .dataframe thead th {\n",
       "        text-align: right;\n",
       "    }\n",
       "</style>\n",
       "<table border=\"1\" class=\"dataframe\">\n",
       "  <thead>\n",
       "    <tr style=\"text-align: right;\">\n",
       "      <th></th>\n",
       "      <th>listing_id</th>\n",
       "      <th>date</th>\n",
       "      <th>available</th>\n",
       "      <th>price</th>\n",
       "      <th>adjusted_price</th>\n",
       "      <th>minimum_nights</th>\n",
       "      <th>maximum_nights</th>\n",
       "    </tr>\n",
       "  </thead>\n",
       "  <tbody>\n",
       "    <tr>\n",
       "      <th>730</th>\n",
       "      <td>129099</td>\n",
       "      <td>2023-03-28</td>\n",
       "      <td>t</td>\n",
       "      <td>$250.00</td>\n",
       "      <td>$225.00</td>\n",
       "      <td>28.0</td>\n",
       "      <td>365.0</td>\n",
       "    </tr>\n",
       "    <tr>\n",
       "      <th>731</th>\n",
       "      <td>129099</td>\n",
       "      <td>2023-03-29</td>\n",
       "      <td>t</td>\n",
       "      <td>$250.00</td>\n",
       "      <td>$225.00</td>\n",
       "      <td>28.0</td>\n",
       "      <td>365.0</td>\n",
       "    </tr>\n",
       "    <tr>\n",
       "      <th>732</th>\n",
       "      <td>129099</td>\n",
       "      <td>2023-03-30</td>\n",
       "      <td>t</td>\n",
       "      <td>$250.00</td>\n",
       "      <td>$225.00</td>\n",
       "      <td>28.0</td>\n",
       "      <td>365.0</td>\n",
       "    </tr>\n",
       "    <tr>\n",
       "      <th>733</th>\n",
       "      <td>129099</td>\n",
       "      <td>2023-03-31</td>\n",
       "      <td>t</td>\n",
       "      <td>$250.00</td>\n",
       "      <td>$225.00</td>\n",
       "      <td>28.0</td>\n",
       "      <td>365.0</td>\n",
       "    </tr>\n",
       "    <tr>\n",
       "      <th>734</th>\n",
       "      <td>129099</td>\n",
       "      <td>2023-04-01</td>\n",
       "      <td>t</td>\n",
       "      <td>$250.00</td>\n",
       "      <td>$225.00</td>\n",
       "      <td>28.0</td>\n",
       "      <td>365.0</td>\n",
       "    </tr>\n",
       "  </tbody>\n",
       "</table>\n",
       "</div>"
      ],
      "text/plain": [
       "     listing_id        date available    price adjusted_price  minimum_nights  \\\n",
       "730      129099  2023-03-28         t  $250.00        $225.00            28.0   \n",
       "731      129099  2023-03-29         t  $250.00        $225.00            28.0   \n",
       "732      129099  2023-03-30         t  $250.00        $225.00            28.0   \n",
       "733      129099  2023-03-31         t  $250.00        $225.00            28.0   \n",
       "734      129099  2023-04-01         t  $250.00        $225.00            28.0   \n",
       "\n",
       "     maximum_nights  \n",
       "730           365.0  \n",
       "731           365.0  \n",
       "732           365.0  \n",
       "733           365.0  \n",
       "734           365.0  "
      ]
     },
     "execution_count": 7,
     "metadata": {},
     "output_type": "execute_result"
    }
   ],
   "source": [
    "# investigate two cloumns 'price' and 'adjusted_price'\n",
    "raw_calendar[(raw_calendar['price'] != raw_calendar['adjusted_price'])].head()"
   ]
  },
  {
   "cell_type": "code",
   "execution_count": 8,
   "metadata": {},
   "outputs": [],
   "source": [
    "# Get useful columns \n",
    "featured_calendar = raw_calendar[['listing_id', 'date', 'available', 'adjusted_price', \n",
    "                                  'minimum_nights', 'maximum_nights']]"
   ]
  },
  {
   "cell_type": "code",
   "execution_count": 9,
   "metadata": {
    "scrolled": true
   },
   "outputs": [
    {
     "data": {
      "text/html": [
       "<div>\n",
       "<style scoped>\n",
       "    .dataframe tbody tr th:only-of-type {\n",
       "        vertical-align: middle;\n",
       "    }\n",
       "\n",
       "    .dataframe tbody tr th {\n",
       "        vertical-align: top;\n",
       "    }\n",
       "\n",
       "    .dataframe thead th {\n",
       "        text-align: right;\n",
       "    }\n",
       "</style>\n",
       "<table border=\"1\" class=\"dataframe\">\n",
       "  <thead>\n",
       "    <tr style=\"text-align: right;\">\n",
       "      <th></th>\n",
       "      <th>listing_id</th>\n",
       "      <th>date</th>\n",
       "      <th>available</th>\n",
       "      <th>adjusted_price</th>\n",
       "      <th>minimum_nights</th>\n",
       "      <th>maximum_nights</th>\n",
       "    </tr>\n",
       "  </thead>\n",
       "  <tbody>\n",
       "    <tr>\n",
       "      <th>0</th>\n",
       "      <td>69824</td>\n",
       "      <td>2023-03-28</td>\n",
       "      <td>f</td>\n",
       "      <td>$150.00</td>\n",
       "      <td>30.0</td>\n",
       "      <td>365.0</td>\n",
       "    </tr>\n",
       "    <tr>\n",
       "      <th>1</th>\n",
       "      <td>69824</td>\n",
       "      <td>2023-03-29</td>\n",
       "      <td>f</td>\n",
       "      <td>$150.00</td>\n",
       "      <td>30.0</td>\n",
       "      <td>365.0</td>\n",
       "    </tr>\n",
       "    <tr>\n",
       "      <th>2</th>\n",
       "      <td>69824</td>\n",
       "      <td>2023-03-30</td>\n",
       "      <td>f</td>\n",
       "      <td>$150.00</td>\n",
       "      <td>30.0</td>\n",
       "      <td>365.0</td>\n",
       "    </tr>\n",
       "    <tr>\n",
       "      <th>3</th>\n",
       "      <td>69824</td>\n",
       "      <td>2023-03-31</td>\n",
       "      <td>t</td>\n",
       "      <td>$150.00</td>\n",
       "      <td>30.0</td>\n",
       "      <td>365.0</td>\n",
       "    </tr>\n",
       "    <tr>\n",
       "      <th>4</th>\n",
       "      <td>69824</td>\n",
       "      <td>2023-04-01</td>\n",
       "      <td>t</td>\n",
       "      <td>$150.00</td>\n",
       "      <td>30.0</td>\n",
       "      <td>365.0</td>\n",
       "    </tr>\n",
       "  </tbody>\n",
       "</table>\n",
       "</div>"
      ],
      "text/plain": [
       "   listing_id        date available adjusted_price  minimum_nights  \\\n",
       "0       69824  2023-03-28         f        $150.00            30.0   \n",
       "1       69824  2023-03-29         f        $150.00            30.0   \n",
       "2       69824  2023-03-30         f        $150.00            30.0   \n",
       "3       69824  2023-03-31         t        $150.00            30.0   \n",
       "4       69824  2023-04-01         t        $150.00            30.0   \n",
       "\n",
       "   maximum_nights  \n",
       "0           365.0  \n",
       "1           365.0  \n",
       "2           365.0  \n",
       "3           365.0  \n",
       "4           365.0  "
      ]
     },
     "execution_count": 9,
     "metadata": {},
     "output_type": "execute_result"
    }
   ],
   "source": [
    "featured_calendar.head()"
   ]
  },
  {
   "cell_type": "code",
   "execution_count": 11,
   "metadata": {},
   "outputs": [],
   "source": [
    "# Helper function to change columns type\n",
    "def clean_price(price):\n",
    "    return price.strip('$').replace(',', '')\n",
    "\n",
    "def to_boolean(available):\n",
    "    if available == 't':\n",
    "        return True\n",
    "    else:\n",
    "        return False"
   ]
  },
  {
   "cell_type": "code",
   "execution_count": 12,
   "metadata": {
    "scrolled": true
   },
   "outputs": [],
   "source": [
    "# converted column data types from the original DataFrame as we saw fit \n",
    "\n",
    "featured_calendar['adjusted_price'] = featured_calendar['adjusted_price'].astype(str).apply(clean_price).astype(float)\n",
    "featured_calendar['date'] = pd.to_datetime(featured_calendar['date'])\n",
    "featured_calendar['available'] = featured_calendar['available'].astype(str).apply(to_boolean)"
   ]
  },
  {
   "cell_type": "code",
   "execution_count": 13,
   "metadata": {
    "scrolled": true
   },
   "outputs": [
    {
     "data": {
      "text/html": [
       "<div>\n",
       "<style scoped>\n",
       "    .dataframe tbody tr th:only-of-type {\n",
       "        vertical-align: middle;\n",
       "    }\n",
       "\n",
       "    .dataframe tbody tr th {\n",
       "        vertical-align: top;\n",
       "    }\n",
       "\n",
       "    .dataframe thead th {\n",
       "        text-align: right;\n",
       "    }\n",
       "</style>\n",
       "<table border=\"1\" class=\"dataframe\">\n",
       "  <thead>\n",
       "    <tr style=\"text-align: right;\">\n",
       "      <th></th>\n",
       "      <th>listing_id</th>\n",
       "      <th>date</th>\n",
       "      <th>available</th>\n",
       "      <th>adjusted_price</th>\n",
       "      <th>minimum_nights</th>\n",
       "      <th>maximum_nights</th>\n",
       "    </tr>\n",
       "  </thead>\n",
       "  <tbody>\n",
       "    <tr>\n",
       "      <th>0</th>\n",
       "      <td>69824</td>\n",
       "      <td>2023-03-28</td>\n",
       "      <td>False</td>\n",
       "      <td>150.0</td>\n",
       "      <td>30.0</td>\n",
       "      <td>365.0</td>\n",
       "    </tr>\n",
       "    <tr>\n",
       "      <th>1</th>\n",
       "      <td>69824</td>\n",
       "      <td>2023-03-29</td>\n",
       "      <td>False</td>\n",
       "      <td>150.0</td>\n",
       "      <td>30.0</td>\n",
       "      <td>365.0</td>\n",
       "    </tr>\n",
       "    <tr>\n",
       "      <th>2</th>\n",
       "      <td>69824</td>\n",
       "      <td>2023-03-30</td>\n",
       "      <td>False</td>\n",
       "      <td>150.0</td>\n",
       "      <td>30.0</td>\n",
       "      <td>365.0</td>\n",
       "    </tr>\n",
       "    <tr>\n",
       "      <th>18</th>\n",
       "      <td>69824</td>\n",
       "      <td>2023-04-15</td>\n",
       "      <td>False</td>\n",
       "      <td>150.0</td>\n",
       "      <td>30.0</td>\n",
       "      <td>365.0</td>\n",
       "    </tr>\n",
       "    <tr>\n",
       "      <th>19</th>\n",
       "      <td>69824</td>\n",
       "      <td>2023-04-16</td>\n",
       "      <td>False</td>\n",
       "      <td>150.0</td>\n",
       "      <td>30.0</td>\n",
       "      <td>365.0</td>\n",
       "    </tr>\n",
       "  </tbody>\n",
       "</table>\n",
       "</div>"
      ],
      "text/plain": [
       "    listing_id       date  available  adjusted_price  minimum_nights  \\\n",
       "0        69824 2023-03-28      False           150.0            30.0   \n",
       "1        69824 2023-03-29      False           150.0            30.0   \n",
       "2        69824 2023-03-30      False           150.0            30.0   \n",
       "18       69824 2023-04-15      False           150.0            30.0   \n",
       "19       69824 2023-04-16      False           150.0            30.0   \n",
       "\n",
       "    maximum_nights  \n",
       "0            365.0  \n",
       "1            365.0  \n",
       "2            365.0  \n",
       "18           365.0  \n",
       "19           365.0  "
      ]
     },
     "execution_count": 13,
     "metadata": {},
     "output_type": "execute_result"
    }
   ],
   "source": [
    "# get only the row where available equals to False\n",
    "featured_stay_calendar = featured_calendar[featured_calendar['available'] == False]\n",
    "featured_stay_calendar.head()"
   ]
  },
  {
   "cell_type": "code",
   "execution_count": 14,
   "metadata": {
    "scrolled": true
   },
   "outputs": [
    {
     "data": {
      "text/html": [
       "<div>\n",
       "<style scoped>\n",
       "    .dataframe tbody tr th:only-of-type {\n",
       "        vertical-align: middle;\n",
       "    }\n",
       "\n",
       "    .dataframe tbody tr th {\n",
       "        vertical-align: top;\n",
       "    }\n",
       "\n",
       "    .dataframe thead th {\n",
       "        text-align: right;\n",
       "    }\n",
       "</style>\n",
       "<table border=\"1\" class=\"dataframe\">\n",
       "  <thead>\n",
       "    <tr style=\"text-align: right;\">\n",
       "      <th></th>\n",
       "      <th>id</th>\n",
       "      <th>neighbourhood</th>\n",
       "      <th>latitude</th>\n",
       "      <th>longitude</th>\n",
       "      <th>room_type</th>\n",
       "      <th>listing_id</th>\n",
       "      <th>date</th>\n",
       "      <th>available</th>\n",
       "      <th>adjusted_price</th>\n",
       "      <th>minimum_nights</th>\n",
       "      <th>maximum_nights</th>\n",
       "    </tr>\n",
       "  </thead>\n",
       "  <tbody>\n",
       "    <tr>\n",
       "      <th>0</th>\n",
       "      <td>484515</td>\n",
       "      <td>Hollywood</td>\n",
       "      <td>25.993770</td>\n",
       "      <td>-80.118300</td>\n",
       "      <td>Entire home/apt</td>\n",
       "      <td>484515</td>\n",
       "      <td>2023-03-28</td>\n",
       "      <td>False</td>\n",
       "      <td>297.0</td>\n",
       "      <td>7.0</td>\n",
       "      <td>1125.0</td>\n",
       "    </tr>\n",
       "    <tr>\n",
       "      <th>1</th>\n",
       "      <td>827736378366911479</td>\n",
       "      <td>Fort Lauderdale</td>\n",
       "      <td>26.093936</td>\n",
       "      <td>-80.137591</td>\n",
       "      <td>Entire home/apt</td>\n",
       "      <td>827736378366911479</td>\n",
       "      <td>2023-03-27</td>\n",
       "      <td>False</td>\n",
       "      <td>222.0</td>\n",
       "      <td>1.0</td>\n",
       "      <td>365.0</td>\n",
       "    </tr>\n",
       "    <tr>\n",
       "      <th>2</th>\n",
       "      <td>827736378366911479</td>\n",
       "      <td>Fort Lauderdale</td>\n",
       "      <td>26.093936</td>\n",
       "      <td>-80.137591</td>\n",
       "      <td>Entire home/apt</td>\n",
       "      <td>827736378366911479</td>\n",
       "      <td>2023-03-28</td>\n",
       "      <td>False</td>\n",
       "      <td>222.0</td>\n",
       "      <td>1.0</td>\n",
       "      <td>365.0</td>\n",
       "    </tr>\n",
       "    <tr>\n",
       "      <th>3</th>\n",
       "      <td>827736378366911479</td>\n",
       "      <td>Fort Lauderdale</td>\n",
       "      <td>26.093936</td>\n",
       "      <td>-80.137591</td>\n",
       "      <td>Entire home/apt</td>\n",
       "      <td>827736378366911479</td>\n",
       "      <td>2023-03-29</td>\n",
       "      <td>False</td>\n",
       "      <td>222.0</td>\n",
       "      <td>1.0</td>\n",
       "      <td>365.0</td>\n",
       "    </tr>\n",
       "    <tr>\n",
       "      <th>4</th>\n",
       "      <td>827736378366911479</td>\n",
       "      <td>Fort Lauderdale</td>\n",
       "      <td>26.093936</td>\n",
       "      <td>-80.137591</td>\n",
       "      <td>Entire home/apt</td>\n",
       "      <td>827736378366911479</td>\n",
       "      <td>2023-03-30</td>\n",
       "      <td>False</td>\n",
       "      <td>222.0</td>\n",
       "      <td>1.0</td>\n",
       "      <td>365.0</td>\n",
       "    </tr>\n",
       "  </tbody>\n",
       "</table>\n",
       "</div>"
      ],
      "text/plain": [
       "                   id    neighbourhood   latitude  longitude        room_type  \\\n",
       "0              484515        Hollywood  25.993770 -80.118300  Entire home/apt   \n",
       "1  827736378366911479  Fort Lauderdale  26.093936 -80.137591  Entire home/apt   \n",
       "2  827736378366911479  Fort Lauderdale  26.093936 -80.137591  Entire home/apt   \n",
       "3  827736378366911479  Fort Lauderdale  26.093936 -80.137591  Entire home/apt   \n",
       "4  827736378366911479  Fort Lauderdale  26.093936 -80.137591  Entire home/apt   \n",
       "\n",
       "           listing_id       date  available  adjusted_price  minimum_nights  \\\n",
       "0              484515 2023-03-28      False           297.0             7.0   \n",
       "1  827736378366911479 2023-03-27      False           222.0             1.0   \n",
       "2  827736378366911479 2023-03-28      False           222.0             1.0   \n",
       "3  827736378366911479 2023-03-29      False           222.0             1.0   \n",
       "4  827736378366911479 2023-03-30      False           222.0             1.0   \n",
       "\n",
       "   maximum_nights  \n",
       "0          1125.0  \n",
       "1           365.0  \n",
       "2           365.0  \n",
       "3           365.0  \n",
       "4           365.0  "
      ]
     },
     "execution_count": 14,
     "metadata": {},
     "output_type": "execute_result"
    }
   ],
   "source": [
    "# Merge two dataframe\n",
    "merged_df = featured_listing.merge(featured_stay_calendar, left_on = 'id', right_on = 'listing_id')\n",
    "merged_df.head()"
   ]
  },
  {
   "cell_type": "code",
   "execution_count": 15,
   "metadata": {
    "scrolled": true
   },
   "outputs": [
    {
     "data": {
      "text/plain": [
       "id                False\n",
       "neighbourhood     False\n",
       "latitude          False\n",
       "longitude         False\n",
       "room_type         False\n",
       "listing_id        False\n",
       "date              False\n",
       "available         False\n",
       "adjusted_price     True\n",
       "minimum_nights     True\n",
       "maximum_nights     True\n",
       "dtype: bool"
      ]
     },
     "execution_count": 15,
     "metadata": {},
     "output_type": "execute_result"
    }
   ],
   "source": [
    "# Assess missing data\n",
    "merged_df.isna().any()"
   ]
  },
  {
   "cell_type": "code",
   "execution_count": 17,
   "metadata": {
    "scrolled": true
   },
   "outputs": [
    {
     "data": {
      "text/html": [
       "<div>\n",
       "<style scoped>\n",
       "    .dataframe tbody tr th:only-of-type {\n",
       "        vertical-align: middle;\n",
       "    }\n",
       "\n",
       "    .dataframe tbody tr th {\n",
       "        vertical-align: top;\n",
       "    }\n",
       "\n",
       "    .dataframe thead th {\n",
       "        text-align: right;\n",
       "    }\n",
       "</style>\n",
       "<table border=\"1\" class=\"dataframe\">\n",
       "  <thead>\n",
       "    <tr style=\"text-align: right;\">\n",
       "      <th></th>\n",
       "      <th>id</th>\n",
       "      <th>neighbourhood</th>\n",
       "      <th>latitude</th>\n",
       "      <th>longitude</th>\n",
       "      <th>room_type</th>\n",
       "      <th>listing_id</th>\n",
       "      <th>date</th>\n",
       "      <th>available</th>\n",
       "      <th>adjusted_price</th>\n",
       "      <th>minimum_nights</th>\n",
       "      <th>maximum_nights</th>\n",
       "    </tr>\n",
       "  </thead>\n",
       "  <tbody>\n",
       "    <tr>\n",
       "      <th>0</th>\n",
       "      <td>484515</td>\n",
       "      <td>Hollywood</td>\n",
       "      <td>25.993770</td>\n",
       "      <td>-80.118300</td>\n",
       "      <td>Entire home/apt</td>\n",
       "      <td>484515</td>\n",
       "      <td>2023-03-28</td>\n",
       "      <td>False</td>\n",
       "      <td>297.0</td>\n",
       "      <td>7.0</td>\n",
       "      <td>1125.0</td>\n",
       "    </tr>\n",
       "    <tr>\n",
       "      <th>1</th>\n",
       "      <td>827736378366911479</td>\n",
       "      <td>Fort Lauderdale</td>\n",
       "      <td>26.093936</td>\n",
       "      <td>-80.137591</td>\n",
       "      <td>Entire home/apt</td>\n",
       "      <td>827736378366911479</td>\n",
       "      <td>2023-03-27</td>\n",
       "      <td>False</td>\n",
       "      <td>222.0</td>\n",
       "      <td>1.0</td>\n",
       "      <td>365.0</td>\n",
       "    </tr>\n",
       "    <tr>\n",
       "      <th>2</th>\n",
       "      <td>827736378366911479</td>\n",
       "      <td>Fort Lauderdale</td>\n",
       "      <td>26.093936</td>\n",
       "      <td>-80.137591</td>\n",
       "      <td>Entire home/apt</td>\n",
       "      <td>827736378366911479</td>\n",
       "      <td>2023-03-28</td>\n",
       "      <td>False</td>\n",
       "      <td>222.0</td>\n",
       "      <td>1.0</td>\n",
       "      <td>365.0</td>\n",
       "    </tr>\n",
       "    <tr>\n",
       "      <th>3</th>\n",
       "      <td>827736378366911479</td>\n",
       "      <td>Fort Lauderdale</td>\n",
       "      <td>26.093936</td>\n",
       "      <td>-80.137591</td>\n",
       "      <td>Entire home/apt</td>\n",
       "      <td>827736378366911479</td>\n",
       "      <td>2023-03-29</td>\n",
       "      <td>False</td>\n",
       "      <td>222.0</td>\n",
       "      <td>1.0</td>\n",
       "      <td>365.0</td>\n",
       "    </tr>\n",
       "    <tr>\n",
       "      <th>4</th>\n",
       "      <td>827736378366911479</td>\n",
       "      <td>Fort Lauderdale</td>\n",
       "      <td>26.093936</td>\n",
       "      <td>-80.137591</td>\n",
       "      <td>Entire home/apt</td>\n",
       "      <td>827736378366911479</td>\n",
       "      <td>2023-03-30</td>\n",
       "      <td>False</td>\n",
       "      <td>222.0</td>\n",
       "      <td>1.0</td>\n",
       "      <td>365.0</td>\n",
       "    </tr>\n",
       "  </tbody>\n",
       "</table>\n",
       "</div>"
      ],
      "text/plain": [
       "                   id    neighbourhood   latitude  longitude        room_type  \\\n",
       "0              484515        Hollywood  25.993770 -80.118300  Entire home/apt   \n",
       "1  827736378366911479  Fort Lauderdale  26.093936 -80.137591  Entire home/apt   \n",
       "2  827736378366911479  Fort Lauderdale  26.093936 -80.137591  Entire home/apt   \n",
       "3  827736378366911479  Fort Lauderdale  26.093936 -80.137591  Entire home/apt   \n",
       "4  827736378366911479  Fort Lauderdale  26.093936 -80.137591  Entire home/apt   \n",
       "\n",
       "           listing_id       date  available  adjusted_price  minimum_nights  \\\n",
       "0              484515 2023-03-28      False           297.0             7.0   \n",
       "1  827736378366911479 2023-03-27      False           222.0             1.0   \n",
       "2  827736378366911479 2023-03-28      False           222.0             1.0   \n",
       "3  827736378366911479 2023-03-29      False           222.0             1.0   \n",
       "4  827736378366911479 2023-03-30      False           222.0             1.0   \n",
       "\n",
       "   maximum_nights  \n",
       "0          1125.0  \n",
       "1           365.0  \n",
       "2           365.0  \n",
       "3           365.0  \n",
       "4           365.0  "
      ]
     },
     "execution_count": 17,
     "metadata": {},
     "output_type": "execute_result"
    }
   ],
   "source": [
    "# Drop the row if adjusted price is missing \n",
    "merged_df.dropna(subset=['adjusted_price'])\n",
    "merged_df.head()"
   ]
  },
  {
   "cell_type": "markdown",
   "metadata": {},
   "source": [
    "1. clean both df -> change the column type to the correct type (done)\n",
    "2. try merging the dfs base on the id in featured_listing df (done)\n",
    "3. acssess missing rows (maybe drop them) (done)\n",
    "    clean features \n",
    "4. Univariate Analysis -> graph (histgram)\n",
    "5. Bivariate Analysis -> graph \n",
    "\n",
    "5. extract feature \n",
    "6. create basic pipline -> build base model "
   ]
  },
  {
   "cell_type": "markdown",
   "metadata": {},
   "source": [
    "# Proposed Solution\n",
    "\n",
    "We plan to build at least two models using Sklearn modules to compare their results for predicting airbnb prices in San Diego. Our thought is to use RandomForestRegressor model and polynomial regression model. Since our data consist of a decent amount of categorical variables as well as numerical variables, we will use one-hot encoding before putting all those data into two models. In order to test our model and to see how our models can generalize on unseen data, we will split our data into testing and training. For the training data, we will then use k-fold validation and GridSearchCV to make sure our data is not overfitting and tune our hyperparameter accordingly. \n",
    "Our General Plan as for now consist of those following step:\n",
    "1. Data cleaning and using python and pandas\n",
    "    - Drop out irrelevant features and data\n",
    "    - Univariate Analysis\n",
    "    - Bivariate Analysis\n",
    "    - Assessment of Missingness \n",
    "2. Feature extraction using python and regex \n",
    "    - One-hot encoding for categorical features \n",
    "    - Assess numerical features and standardize relevant features \n",
    "3. Split the dataset into testing and training \n",
    "4. Build a baseline model \n",
    "5. Implement two models, use k-fold cross validation and GridSearchCV\n",
    "6. After achieving good prediction use the best performed model on testing dataset"
   ]
  },
  {
   "cell_type": "markdown",
   "metadata": {},
   "source": [
    "# Evaluation Metrics\n",
    "\n",
    "An appropriate evaluation metric, such as Root Mean Square Error (RMSE) will be used to quantify the performance of the model. This metric quantifies the difference between predicted and actual prices, providing an indication of the model's accuracy. The Root Mean Square Error is calculated by the following formula:\n",
    "$$\n",
    "\\text{RMSE}(y, \\hat{y}) = \\sqrt{\\frac{\\sum_{i=0}^{N - 1} (y_i - \\hat{y}_i)^2}{N}}\n",
    "$$\n",
    "where N is the number of the data samples, is the ith measurement, and  is the corresponding predictions of the sample."
   ]
  },
  {
   "cell_type": "markdown",
   "metadata": {},
   "source": [
    "# Preliminary results\n",
    "\n",
    "NEW SECTION!\n",
    "\n",
    "Please show any preliminary results you have managed to obtain.\n",
    "\n",
    "Examples would include:\n",
    "- Analyzing the suitability of a dataset or alogrithm for prediction/solving your problem \n",
    "- Performing feature selection or hand-designing features from the raw data. Describe the features available/created and/or show the code for selection/creation\n",
    "- Showing the performance of a base model/hyper-parameter setting.  Solve the task with one \"default\" algorithm and characterize the performance level of that base model.\n",
    "- Learning curves or validation curves for a particular model\n",
    "- Tables/graphs showing the performance of different models/hyper-parameters\n",
    "\n"
   ]
  },
  {
   "cell_type": "markdown",
   "metadata": {},
   "source": [
    "# Ethics & Privacy"
   ]
  },
  {
   "cell_type": "markdown",
   "metadata": {},
   "source": [
    "- Data Collection:\n",
    "    - Informed consent:\n",
    "Our dataset is extracted from official documentation published by Airbnb. The information can be searched online and hosts sign a form of consent when the properties are listed on the market, so there should not be any legal issues.\n",
    "    - Collection bias:\n",
    "The dataset is comprehensively collected from every single listing in the area of San Diego. So, there is no foreseeable bias in the process of data collection.\n",
    "    - Limit PII exposure:\n",
    "The dataset contains names of the hosts, so we will delete the sensitive information such as their ID and names of the hosts in the data cleaning processes.\n",
    "\n",
    "\n",
    "- Data Storage\n",
    "    - Data Security and Right to be forgotten\n",
    "In compliance with regulations such as the GDPR, we respect the 'right to be forgotten.' If an individual whose data is included in our project requests for their data to be erased, we are obligated to do so, provided there are no legal grounds for retaining it. This helps to ensure that individuals maintain control over their personal data.\n",
    "    - Data retention plan:\n",
    "We recognize the importance of not retaining data longer than necessary. Our default position will be to retain data for only as long as it is required for the purpose of the project. Once the data is no longer necessary, we will safely and securely delete it.\n",
    "\n",
    "\n",
    "- Analysis\n",
    "    - Missing perspectives\n",
    "For this project, we do not obtain the source of expertise knowledge or any affected communities. \n",
    "    - Dataset bias: \n",
    "Our datasets record the fundamental features of listings in San Diego are. The data it contained does not contain any information that can be related to stereotype perpetuation or imbalance classes. One variable that might be confounding in our dataset is “license”. According to our research, Airbnb's official forum provides information regarding this feature. Excerpting from Airbnb’s official response: “Some cities require Hosts to obtain a license or registration number to list their places on Airbnb. The corresponding field on their listing allows them to show that number for compliance.” This provides us an understanding of what a license is and how it applies to the property listing. Additionally, Airbnb also suggests that “license” might not be necessary for some cities, depending on the policies. For those properties that have status ‘city registration pending’ or ‘exempt’, Airbnb claims that it will not affect the veracity and safety of the listings.\n",
    "    - Honest Representation:\n",
    "Our visualizations, summary statistics, and reports will honestly represent the underlying data.\n",
    "    - Privacy in Analysis:\n",
    "Yes, we will remove the data that are related to IDs or host name in the data cleaning process.\n",
    "    - Auditability:\n",
    "Yes, the process will be able to reproduce using the dataset we provides and the technique we used. \n",
    "\n",
    "\n",
    "\n",
    "- Modeling\n",
    "    - Proxy Discrimination:\n",
    "We will ensure that the model does not inadvertently result in discrimination through the use of proxy variables - variables that correlate with protected characteristics such as race, age, or gender.\n",
    "    - Fairness across groups:\n",
    "We will prioritize fairness across all groups to ensure that no one group will receive favor based on any characteristics. We will utilize techniques to check if our model is biased, and if it is, we will mitigate it and re-evaluate our model.\n",
    "    - Metric selection:\n",
    "RMSE\n",
    "    - Explainability:\n",
    "We aim to choose a model that achieves a balance between explainability and accuracy. While more complex models offer better accuracy and predictiveness, it will more often be harder to explain. It is important for us to understand how a model is making its decisions.\n",
    "\n",
    "\n",
    "- Deployment\n",
    "    - Monitoring and evaluation:\n",
    "Once the model is deployed, there is a need to monitor the performance and fairness continuously. We will track metrics like the model’s accuracy and potential bias over time and across different groups.\n",
    "Redress\n",
    "    - Roll back:\n",
    "A roll-back plan will be in place to revert to a previous version of the model or even to stop using the model altogether if serious issues arise. This could be necessary if the model starts performing poorly or if significant bias is discovered that can't be quickly mitigated. \n",
    "    - Redress:\n",
    "We will officially apologize to those who are harmed by our project and provide contact information for them to reach out for a solution\n",
    "    - Unintended use:\n",
    "Some unintended use for our project can be customers/guests using our results to argue with the host for lower prices, which might have negative effects on the revenue of listing properties.\n"
   ]
  },
  {
   "cell_type": "markdown",
   "metadata": {},
   "source": [
    "# Team Expectations "
   ]
  },
  {
   "cell_type": "markdown",
   "metadata": {},
   "source": [
    "Put things here that cement how you will interact/communicate as a team, how you will handle conflict and difficulty, how you will handle making decisions and setting goals/schedule, how much work you expect from each other, how you will handle deadlines, etc...\n",
    "* *All team members actively engage in the discussion of our project*\n",
    "* *All team members have completed their respective tasks on time while maintaining a high standard of quality in their work *\n",
    "* *All team members contribute equally to solution and information research*"
   ]
  },
  {
   "cell_type": "markdown",
   "metadata": {},
   "source": [
    "# Project Timeline Proposal"
   ]
  },
  {
   "cell_type": "markdown",
   "metadata": {},
   "source": [
    "| Meeting Date  | Meeting Time| Completed Before Meeting  | Discuss at Meeting |\n",
    "|---|---|---|---|\n",
    "| 5/10  |  7-8 PM |  Brainstorm topics/questions (all)  | Determine best form of communication; Discuss and decide on final project topic; discuss hypothesis; begin background research | \n",
    "| 5/15  |  5-8 PM |  Do background research on topic (all) | Discuss ideal dataset(s) and ethics; draft project proposal | \n",
    "| 5/17  | 4-8 PM  | Edit, finalize, and submit proposal; Search for datasets (all)  | Discuss Wrangling and possible analytical approaches; Assign group members to lead each specific part   |\n"
   ]
  },
  {
   "cell_type": "markdown",
   "metadata": {},
   "source": [
    "# Footnotes\n",
    "<a name=\"airbnbstats\"></a>1.[^](#airbnbstats): “Airbnb Statistics [2023]: User & Market Growth Data.” SearchLogistics, 28 Apr. 2023, www.searchlogistics.com/learn/statistics/airbnb-statistics/. <br>\n",
    "<a name=\"airbnbsd\"></a>2.[^](#airbnbsd): “San Diego.” Inside Airbnb: Home, insideairbnb.com/san-diego. Accessed 17 May 2023. \n"
   ]
  }
 ],
 "metadata": {
  "kernelspec": {
   "display_name": "Python 3 (ipykernel)",
   "language": "python",
   "name": "python3"
  },
  "language_info": {
   "codemirror_mode": {
    "name": "ipython",
    "version": 3
   },
   "file_extension": ".py",
   "mimetype": "text/x-python",
   "name": "python",
   "nbconvert_exporter": "python",
   "pygments_lexer": "ipython3",
   "version": "3.9.12"
  }
 },
 "nbformat": 4,
 "nbformat_minor": 2
}
